{
 "cells": [
  {
   "cell_type": "markdown",
   "metadata": {},
   "source": [
    "# TEST ONLY FOR CLASSIFICATION\n",
    "This code tests the classifier based on data of section CLUSTERING"
   ]
  },
  {
   "cell_type": "code",
   "execution_count": null,
   "metadata": {},
   "outputs": [],
   "source": [
    "import numpy as np\n",
    "import matplotlib as plt\n",
    "import tensorflow as tf\n",
    "from matplotlib.colors import LogNorm\n",
    "from functions import*\n",
    "import math\n",
    "import pandas as pd\n",
    "import os\n",
    "from scipy.interpolate import griddata\n",
    "from matplotlib.colors import LogNorm\n",
    "os.environ[\"CUDA_VISIBLE_DEVICES\"] = \"-1\""
   ]
  },
  {
   "cell_type": "markdown",
   "metadata": {},
   "source": [
    "# FUNCTIONS"
   ]
  },
  {
   "cell_type": "code",
   "execution_count": null,
   "metadata": {},
   "outputs": [],
   "source": [
    "def normalize_M_test(M,maxi,mini):\n",
    "    M_norm = np.zeros((np.shape(M)[0],np.shape(M)[1]))\n",
    "    for i in range(np.shape(M)[0]):\n",
    "        for j in range(np.shape(M)[1]):\n",
    "            M_norm[i,j] = (M[i,j]- mini[j])/(maxi[j]-mini[j])\n",
    "            #print((M[i,j]- mini[i])/(maxi[i]-mini[i]))\n",
    "    return M_norm\n",
    "\n",
    "def get_ma_mi_params(path):\n",
    "    column = ['max_par','min_par']\n",
    "    data = pd.read_csv(path,names = column,skiprows=1)\n",
    "    ma = data.max_par.to_list()\n",
    "    mi = data.min_par.to_list()\n",
    "    \n",
    "    return ma,mi\n",
    "\n",
    "def accuracy(pred,test):\n",
    "    return len(np.where((pred-test)==0)[0])/len(test)"
   ]
  },
  {
   "cell_type": "markdown",
   "metadata": {},
   "source": [
    "# TEST"
   ]
  },
  {
   "cell_type": "code",
   "execution_count": null,
   "metadata": {},
   "outputs": [],
   "source": [
    "from architecture import Classifier\n",
    "\n",
    "specie = 'vWFs'\n",
    "dir = '3_cluster'\n",
    "n_layers_dfnn = 4\n",
    "n_neurons = 50\n",
    "n_clusters = 3\n",
    "N = 5\n",
    "n_params = 6\n",
    "path = '../' + specie + '/CLASSIFICATION/'+'/MODELS/'+str(N)+'/'\n",
    "\n",
    "classifier = Classifier(n_layers = n_layers_dfnn,neurons = n_neurons,length_output = n_clusters)\n",
    "classifier.built = True\n",
    "classifier.load_weights(path+dir+'/weights_classifier/classifier_tf')"
   ]
  },
  {
   "cell_type": "code",
   "execution_count": null,
   "metadata": {},
   "outputs": [],
   "source": [
    "param_test = np.loadtxt(open(path+'/Data/'+\"param_test.csv\", \"rb\"), delimiter=',')\n",
    "labels = np.loadtxt(open(path+'/Data/'+\"label_test.csv\", \"rb\"), delimiter=',')\n",
    "ma, mi = get_ma_mi_params(path+'/Data/normalization.csv')\n",
    "param_test = normalize_M_test(param_test,ma,mi)"
   ]
  },
  {
   "cell_type": "code",
   "execution_count": null,
   "metadata": {},
   "outputs": [],
   "source": [
    "pred = []\n",
    "for i in param_test:\n",
    "    i = tf.reshape(i,[-1,n_params])\n",
    "    out = classifier(i).numpy()\n",
    "    pred.append(out[0])\n",
    "classes_pred = []\n",
    "for i in pred:\n",
    "    classes_pred.append(np.where(i == np.amax(i))[0][0])\n",
    "classes_pred = np.array(classes_pred)\n",
    "labels = np.array(labels)"
   ]
  },
  {
   "cell_type": "code",
   "execution_count": null,
   "metadata": {},
   "outputs": [],
   "source": [
    "acc = accuracy(classes_pred,labels)\n",
    "plt.figure(figsize = (15,10))\n",
    "plt.plot(classes_pred,label = 'Predictions',linestyle='dashed')\n",
    "plt.plot(labels,label = 'Test',linestyle='dashdot')\n",
    "plt.xlabel('Test Snapshot',fontsize = 16)\n",
    "plt.ylabel('Class',fontsize = 16)\n",
    "plt.legend(fontsize = 16)\n",
    "plt.title(str(n_clusters)+ ' clusters, Accuracy = ' +str(acc), fontsize = 16)\n",
    "plt.savefig(path+dir'/Figures/predictions.png',dpi=200,facecolor='w',transparent=True,bbox_inches='tight')"
   ]
  },
  {
   "cell_type": "code",
   "execution_count": null,
   "metadata": {},
   "outputs": [],
   "source": []
  }
 ],
 "metadata": {
  "kernelspec": {
   "display_name": "Python 3",
   "language": "python",
   "name": "python3"
  },
  "language_info": {
   "codemirror_mode": {
    "name": "ipython",
    "version": 3
   },
   "file_extension": ".py",
   "mimetype": "text/x-python",
   "name": "python",
   "nbconvert_exporter": "python",
   "pygments_lexer": "ipython3",
   "version": "3.9.12"
  }
 },
 "nbformat": 4,
 "nbformat_minor": 5
}
