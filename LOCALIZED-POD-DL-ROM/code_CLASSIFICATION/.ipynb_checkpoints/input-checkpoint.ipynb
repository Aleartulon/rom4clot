{
 "cells": [
  {
   "cell_type": "code",
   "execution_count": null,
   "metadata": {},
   "outputs": [],
   "source": [
    "import numpy as np\n",
    "import matplotlib.pyplot as plt\n",
    "import tensorflow as tf\n",
    "import os\n",
    "os.environ[\"CUDA_VISIBLE_DEVICES\"] = \"-1\""
   ]
  },
  {
   "cell_type": "code",
   "execution_count": null,
   "metadata": {
    "scrolled": false
   },
   "outputs": [],
   "source": [
    "N = 256\n",
    "dir = '3_cluster_256_N'\n",
    "specie = 'vWFs'\n",
    "path = '../'+specie+'/CLASSIFICATION/MODELS/'+dir\n",
    "S = np.loadtxt(open(path+'/Data/'+\"std.csv\", \"rb\"), delimiter=',')\n",
    "\n",
    "fig = tf.reshape(S[39,:],[-1,int(np.sqrt(N)),int(np.sqrt(N)),1])[0].numpy()"
   ]
  },
  {
   "cell_type": "code",
   "execution_count": null,
   "metadata": {},
   "outputs": [],
   "source": [
    "fig,ax = plt.subplots(10,4,figsize = (20,40))\n",
    "for i in range(10):\n",
    "    count = (4*i)+0\n",
    "    scatter_plot = ax[i][0].imshow(tf.reshape(S[count,:],[-1,int(np.sqrt(N)),int(np.sqrt(N)),1])[0].numpy(),interpolation='nearest', aspect='auto')\n",
    "    ax[i][0].set_title('t = '+ str(count+2)+' s')\n",
    "    plt.colorbar(scatter_plot, ax=ax[i,0])\n",
    "    scatter_plot = ax[i][1].imshow(tf.reshape(S[count+1,:],[-1,int(np.sqrt(N)),int(np.sqrt(N)),1])[0].numpy(),interpolation='nearest', aspect='auto')\n",
    "    ax[i][1].set_title('t = '+ str(count+2+1)+' s')\n",
    "    plt.colorbar(scatter_plot, ax=ax[i,1])\n",
    "    scatter_plot = ax[i][2].imshow(tf.reshape(S[count+2,:],[-1,int(np.sqrt(N)),int(np.sqrt(N)),1])[0].numpy(),interpolation='nearest', aspect='auto')\n",
    "    ax[i][2].set_title('t = '+ str(count+2+2)+' s')\n",
    "    plt.colorbar(scatter_plot, ax=ax[i,2])\n",
    "    scatter_plot = ax[i][3].imshow(tf.reshape(S[count+3,:],[-1,int(np.sqrt(N)),int(np.sqrt(N)),1])[0].numpy(),interpolation='nearest', aspect='auto')\n",
    "    ax[i][3].set_title('t = '+ str(count+2+3)+' s')\n",
    "    plt.colorbar(scatter_plot, ax=ax[i,3])\n",
    "\n",
    "plt.savefig('coefficients_std.png',dpi = 200,facecolor='w',transparent=True)"
   ]
  },
  {
   "cell_type": "code",
   "execution_count": null,
   "metadata": {},
   "outputs": [],
   "source": [
    "print(S[0,:])"
   ]
  }
 ],
 "metadata": {
  "kernelspec": {
   "display_name": "Python 3",
   "language": "python",
   "name": "python3"
  },
  "language_info": {
   "codemirror_mode": {
    "name": "ipython",
    "version": 3
   },
   "file_extension": ".py",
   "mimetype": "text/x-python",
   "name": "python",
   "nbconvert_exporter": "python",
   "pygments_lexer": "ipython3",
   "version": "3.9.12"
  }
 },
 "nbformat": 4,
 "nbformat_minor": 4
}
