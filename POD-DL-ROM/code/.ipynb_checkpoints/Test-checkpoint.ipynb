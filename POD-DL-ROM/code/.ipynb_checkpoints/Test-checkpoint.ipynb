{
 "cells": [
  {
   "cell_type": "markdown",
   "metadata": {},
   "source": [
    "# Test for POD-DL-ROM\n",
    "Testing with only one cluster. The idea is to construct the matrix S_predicted and confront it with the matrix S_test"
   ]
  },
  {
   "cell_type": "code",
   "execution_count": null,
   "metadata": {},
   "outputs": [],
   "source": [
    "#1\n",
    "\n",
    "import numpy as np\n",
    "import matplotlib as plt\n",
    "import tensorflow as tf\n",
    "from matplotlib.colors import LogNorm\n",
    "from functions import*\n",
    "import math\n",
    "import pandas as pd\n",
    "import os\n",
    "from scipy.interpolate import griddata\n",
    "from matplotlib.colors import LogNorm\n",
    "os.environ['TF_CPP_MIN_LOG_LEVEL'] = '2'"
   ]
  },
  {
   "cell_type": "code",
   "execution_count": null,
   "metadata": {},
   "outputs": [],
   "source": [
    "#2\n",
    "\n",
    "def inverse_normalize_S(S,S_max,S_min):\n",
    "    return (S_max-S_min)*S+S_min\n",
    "\n",
    "def normalize_M_test(M,maxi,mini):\n",
    "    M_norm = np.zeros((np.shape(M)[0],np.shape(M)[1]))\n",
    "    for i in range(np.shape(M)[0]):\n",
    "        for j in range(np.shape(M)[1]):\n",
    "            M_norm[i,j] = (M[i,j]- mini[j])/(maxi[j]-mini[j])\n",
    "            #print((M[i,j]- mini[i])/(maxi[i]-mini[i]))\n",
    "    return M_norm\n",
    "\n",
    "def read_files_centers(file_path):\n",
    "    with open(file_path, 'r') as file:\n",
    "        if file_path[-1] != 'U':\n",
    "            lines = np.array(file.read().split(\"\\n\"))\n",
    "            start = np.where(lines == \"(\")\n",
    "            end = np.where(lines == \")\")\n",
    "            if len(start[0]) != 0:\n",
    "                output = np.array(lines[start[0][0]+1:end[0][0]])\n",
    "                return output\n",
    "            else:\n",
    "                return []\n",
    "        else:\n",
    "            U = read_U(file_path)\n",
    "            return U\n",
    "        \n",
    "        \n",
    "def predictions(N,DFNN,Decoder,n_params,S_test,M_test,V,ma,mi):\n",
    "    x,y = np.shape(S_test)\n",
    "    S_predicted = np.zeros((x,y))\n",
    "\n",
    "    for count,i in enumerate(M_test):\n",
    "        i = np.array(i,dtype=float32)\n",
    "        DFNN_out = DFNN(tf.reshape(i,[-1,n_params]))\n",
    "        Dec_out = Decoder(DFNN_out)\n",
    "        Dec_out = tf.reshape(Dec_out,[-1,N]).numpy()\n",
    "        Dec_out = inverse_normalize_S(Dec_out,ma,mi)\n",
    "        if (count-0)%(int(x/5)) == 0:\n",
    "            plt.imshow(tf.reshape(Dec_out[0],[-1,int(np.sqrt(N)),int(np.sqrt(N)),1])[0].numpy(),interpolation='nearest', aspect='auto')\n",
    "            plt.colorbar()\n",
    "            plt.show()\n",
    "        S_predicted[count,:] = np.matmul(V,Dec_out[0])\n",
    "    return S_predicted\n",
    "\n",
    "\n",
    "\n",
    "def plots_in_time(S_test,S_predicted,cell_true,path,seconds,secondstoplot):\n",
    "    fig,ax = plt.subplots(len(secondstoplot),3,figsize = (20,len(secondstoplot)*5))\n",
    "    for u,i in enumerate(secondstoplot):\n",
    "        count = i-2+0\n",
    "        cm = plt.cm.get_cmap('RdYlBu_r')\n",
    "        #ax = fig.gca(projection='3d')\n",
    "        scatter_plot = ax[u][0].scatter(cell_true[:,0], cell_true[:,1], c = S_predicted[count,:], s=0.5,cmap=cm)\n",
    "        ax[u][0].set_title('Predicted t = '+str(i))\n",
    "        plt.colorbar(scatter_plot, ax=ax[u,0])\n",
    "        scatter_plot = ax[u][1].scatter(cell_true[:,0], cell_true[:,1], c = S_test[count,:], s=0.5,cmap=cm)\n",
    "        ax[u][1].set_title('FOM')\n",
    "        plt.colorbar(scatter_plot, ax=ax[u,1])\n",
    "        scatter_plot = ax[u][2].scatter(cell_true[:,0], cell_true[:,1], c = np.abs(S_test[count,:]-S_predicted[count,:])/np.sqrt(1/seconds*np.sum(np.linalg.norm(S_test[0:seconds],axis=1)**2)), s=0.5,cmap=cm)\n",
    "        ax[u][2].set_title('Relative error')\n",
    "        plt.colorbar(scatter_plot, ax=ax[u,2])\n",
    "    plt.savefig(path+'/vWFs_with_'+str(secondstoplot)+'_second_t_final_.png',dpi=150,facecolor='w',transparent=True,bbox_inches='tight')\n",
    "    plt.show()\n",
    "    return 0\n",
    "\n",
    "def plots_in_sim(S_test,S_predicted,cell_true,path,t,seconds):\n",
    "    fig,ax = plt.subplots(5,3,figsize = (20,20))\n",
    "    for i in range(5):\n",
    "        cm = plt.cm.get_cmap('RdYlBu_r')\n",
    "        #ax = fig.gca(projection='3d')\n",
    "        scatter_plot = ax[i][0].scatter(cell_true[:,0], cell_true[:,1], c = S_predicted[(t-2)+i*seconds,:], s=0.5,cmap=cm)\n",
    "        ax[i][0].set_title('Predicted t = '+str((t))+'_Sim = '+str(i+1))\n",
    "        plt.colorbar(scatter_plot, ax=ax[i,0])\n",
    "        scatter_plot = ax[i][1].scatter(cell_true[:,0], cell_true[:,1], c = S_test[(t-2)+i*seconds,:],s=0.5,cmap=cm)\n",
    "        ax[i][1].set_title('FOM')\n",
    "        plt.colorbar(scatter_plot, ax=ax[i,1])\n",
    "        scatter_plot = ax[i][2].scatter(cell_true[:,0], cell_true[:,1], c = np.abs(S_test[(t-2)+i*seconds,:]-S_predicted[(t-2)+i*seconds,:])/np.sqrt(1/seconds*np.sum(np.linalg.norm(S_test[i*seconds:i*seconds+seconds],axis=1)**2)), s=0.5,cmap=cm)\n",
    "        ax[i][2].set_title('Relative error')\n",
    "        plt.colorbar(scatter_plot, ax=ax[i,2])\n",
    "    plt.savefig(path+'/vWFs_with_sim_second_'+str(t)+'_final.png',dpi=150,facecolor='w',transparent=True)\n",
    "    plt.show()\n",
    "    return 0\n",
    "def interpolate(x,y,z,step,method = 'cubic'):\n",
    "    xi = np.arange(0,0.0006,step)\n",
    "    yi = np.arange(0,0.0035,step)\n",
    "    xi,yi = np.meshgrid(xi,yi)\n",
    "    mask = ((xi > 0.0001) & (yi < 0.00118)) | ((xi > 7.9e-5) & (yi < 0.001784)&(yi > 0.001604))\n",
    "    # interpolate\n",
    "    zi = griddata((x,y),z,(xi,yi),method=method)\n",
    "    zi[mask] = np.nan\n",
    "    return xi,yi,zi\n",
    "\n",
    "\n",
    "def plots_in_time_interpolated(S_test,S_predicted,cell_true,path,seconds,secondstoplot,step = 1e-6, interpolation = 'linear'):\n",
    "    fig,ax = plt.subplots(len(secondstoplot),3,figsize = (20,len(secondstoplot)*5))\n",
    "    x1,x2,_= interpolate(cell_true[:,0],cell_true[:,1],S_test[0,:],step,method = interpolation)\n",
    "    for u,i in enumerate(secondstoplot):\n",
    "        count = i-2+0\n",
    "        cm = plt.cm.get_cmap('jet')\n",
    "        _,_,pred = interpolate(cell_true[:,0],cell_true[:,1],S_predicted[count,:],  step,method = interpolation)\n",
    "        _,_,test = interpolate(cell_true[:,0],cell_true[:,1],S_test[count,:],  step,method = interpolation)\n",
    "        scatter_plot = ax[u][0].scatter(x1, x2, c = pred, s=0.5,cmap=cm)\n",
    "        ax[u][0].set_title('POD-DL-ROM, t = '+str(i)+ ' s', fontsize = 14)\n",
    "        ax[u][0].axis('off')\n",
    "        ax[u][0].axis('tight')\n",
    "        plt.colorbar(scatter_plot, ax=ax[u,0],label = 'nmol $m^{-3}$')\n",
    "        scatter_plot = ax[u][1].scatter(x1, x2, c =test, s=0.5,cmap=cm)\n",
    "        ax[u][1].set_title('FOM, t = '+str(i)+ ' s', fontsize = 14)\n",
    "        ax[u][1].axis('off')\n",
    "        ax[u][1].axis('tight')\n",
    "        plt.colorbar(scatter_plot, ax=ax[u,1],label = 'nmol $m^{-3}$')\n",
    "        scatter_plot = ax[u][2].scatter(x1, x2, c = np.abs(pred-test)/np.sqrt(1/seconds*np.sum(np.linalg.norm(S_test[0:seconds],axis=1)**2)), s=0.5,cmap=cm)\n",
    "        ax[u][2].set_title('Relative error', fontsize = 14)\n",
    "        ax[u][2].axis('off')\n",
    "        ax[u][2].axis('tight')\n",
    "        plt.colorbar(scatter_plot, ax=ax[u,2])\n",
    "    plt.savefig(path+'/vWFs_with_'+str(secondstoplot)+'_second_t_final_interp.png',dpi=200,facecolor='w',bbox_inches='tight',transparent=True)\n",
    "    plt.show()\n",
    "    return 0\n",
    "def plots_in_sim_interpolated(S_test,S_predicted,cell_true,path,t,seconds, step = 1e-6, interpolation = 'linear'):\n",
    "    fig,ax = plt.subplots(5,3,figsize = (20,20))\n",
    "    x1,x2,_= interpolate(cell_true[:,0],cell_true[:,1],S_test[0,:],step,method = interpolation)\n",
    "    for i in range(5):\n",
    "        cm = plt.cm.get_cmap('jet')\n",
    "        _,_,pred = interpolate(cell_true[:,0],cell_true[:,1],S_predicted[(t-2)+i*seconds,:],  step,method = interpolation)\n",
    "        _,_,test = interpolate(cell_true[:,0],cell_true[:,1], S_test[(t-2)+i*seconds,:],  step,method = interpolation)\n",
    "        #ax = fig.gca(projection='3d')\n",
    "        scatter_plot = ax[i][0].scatter(x1, x2, c = pred, s=0.5,cmap=cm)\n",
    "        ax[i][0].set_title('POD-DL-ROM, t = '+str((t))+ ' s'+', Sim = '+str(i+1))\n",
    "        ax[i][0].axis('off')\n",
    "        ax[i][0].axis('tight')\n",
    "        plt.colorbar(scatter_plot, ax=ax[i,0])\n",
    "        scatter_plot = ax[i][1].scatter(x1, x2, c = test,s=0.5,cmap=cm)\n",
    "        ax[i][1].set_title('FOM, t = '+str((t))+ ' s'+', Sim = '+str(i+1))\n",
    "        ax[i][1].axis('off')\n",
    "        ax[i][1].axis('tight')\n",
    "        plt.colorbar(scatter_plot, ax=ax[i,1])\n",
    "        scatter_plot = ax[i][2].scatter(x1, x2, c = np.abs(pred-test)/np.sqrt(1/seconds*np.sum(np.linalg.norm(S_test[i*seconds:i*seconds+seconds],axis=1)**2)), s=0.5,cmap=cm)\n",
    "        ax[i][2].set_title('Relative error')\n",
    "        ax[i][2].axis('off')\n",
    "        ax[i][2].axis('tight')\n",
    "        plt.colorbar(scatter_plot, ax=ax[i,2])\n",
    "    plt.savefig(path+'/vWFs_with_sim_second_'+str(t)+'_final.png',dpi=200,facecolor='w',transparent=True,bbox_inches='tight')\n",
    "    plt.show()\n",
    "    return 0\n",
    "def relative_error(S_test,S_predicted,seconds):\n",
    "    x,y = np.shape(S_test)\n",
    "    s = 0\n",
    "    for i in range(int(x/seconds)):\n",
    "        num = np.sqrt(np.sum(np.linalg.norm(S_test[i*seconds:i*seconds+seconds]-S_predicted[i*seconds:i*seconds+seconds],axis = 1)**2))\n",
    "        den = np.sqrt(np.sum(np.linalg.norm(S_test[i*seconds:i*seconds+seconds],axis=1)**2))\n",
    "        s+=num/den\n",
    "    return s/(int(x/seconds))\n",
    "\n",
    "def relative_error_in_time(S_test,S_predicted,seconds,t):\n",
    "    x,y = np.shape(S_test)\n",
    "    s = 0\n",
    "    for i in range(int(x/seconds)):\n",
    "        num = np.sqrt(np.linalg.norm(S_test[i*seconds+(t)]-S_predicted[i*seconds+(t)])**2)\n",
    "        den = np.sqrt(np.linalg.norm(S_test[i*seconds+(t)])**2)\n",
    "        s+=num/den\n",
    "    return s/(x/seconds)\n",
    "\n",
    "def plot_re_err(S_test,S_predicted,seconds,path,N):\n",
    "    arr = []\n",
    "    re = relative_error(S_test,S_predicted,seconds)\n",
    "    for i in range(seconds):\n",
    "        arr.append(relative_error_in_time(S_test,S_predicted,seconds,i))\n",
    "    plt.figure(figsize=(10,10))\n",
    "    plt.yscale('log')\n",
    "    plt.xlabel('Second',fontsize=12)\n",
    "    plt.ylabel('Relative error per second',fontsize=12)\n",
    "    plt.plot(np.arange(2,seconds+2,1),arr,'o',label = r'$N = '+str(N)+',$ $ \\epsilon_G =$'+str('%.4f' % (re)))\n",
    "    plt.xlim([0,42])\n",
    "    plt.title('N = '+str(N),fontsize=14)\n",
    "    plt.legend(fontsize=14)\n",
    "    plt.axvline(x = 13.5, color = 'k', label = 'axvline - full height',linewidth= 0.8)\n",
    "    plt.axvline(x = 26.5, color = 'k', label = 'axvline - full height',linewidth= 0.8)\n",
    "    plt.savefig(path+'/Figures'+'/relative_error_in_time.png',dpi=200,facecolor='w',transparent=True,bbox_inches='tight')\n",
    "    print('Relative error on all time is '+ str(re))\n",
    "    return arr\n",
    "\n"
   ]
  },
  {
   "cell_type": "markdown",
   "metadata": {},
   "source": [
    "# Construct the DFNN and the Decoder\n",
    "If you saved your data in different directories since you are not using blood clot data, just change the names accordingly."
   ]
  },
  {
   "cell_type": "code",
   "execution_count": null,
   "metadata": {},
   "outputs": [],
   "source": [
    "#3\n",
    "\n",
    "#define necessary values for the construction of DFNN and decoder\n",
    "\n",
    "\n",
    "from architecture import Encoder\n",
    "from architecture import DFNN\n",
    "from architecture import Decoder\n",
    "\n",
    "n_neurons = 100\n",
    "latent_space = 6 #counting time as a parameter\n",
    "n_layers_dfnn = 4\n",
    "N = 64\n",
    "interval = 'full'\n",
    "n_train = int((4000)*0.8)\n",
    "n_data = 3800\n",
    "\n",
    "dir = 'kernel_7'\n",
    "specie = 'vWFs'\n",
    "basic_data = '../'\n",
    "home = '../MODELS/'+specie+'/'+interval+'/'+str(N)\n",
    "path = home+'/'+dir\n",
    "\n",
    "cell_centers = read_files_centers(basic_data+'/cellCenters')\n",
    "cell_true = []\n",
    "for i in cell_centers:\n",
    "    cell_true.append(np.array(i[1:-1].split()).astype(np.float64))\n",
    "cell_true = np.array(cell_true)\n",
    "\n",
    "DFNN = DFNN(n_layers = n_layers_dfnn,input_shape=(latent_space,1),neurons = n_neurons,length_output = latent_space)\n",
    "Decoder = Decoder(input_kernel=latent_space,num_of_layers = 4,N = N)\n",
    "\n",
    "DFNN.built = True\n",
    "Decoder.built = True\n",
    "\n",
    "DFNN.load_weights(path+'/weights_DFNN/DFNN_tf')\n",
    "Decoder.load_weights(path+'/weights_Decoder/Decoder_tf')"
   ]
  },
  {
   "cell_type": "code",
   "execution_count": null,
   "metadata": {},
   "outputs": [],
   "source": [
    "#4\n",
    "#get testing data and normalize them accordingly to statistics of the training\n",
    "\n",
    "S_test = np.loadtxt(open(home+'/Data/'+\"S_test.csv\", \"rb\"), delimiter=',')\n",
    "M_test = np.loadtxt(open(home+'/Data/'+\"M_test.csv\", \"rb\"), delimiter=',')\n",
    "V = np.loadtxt(open(home+'/Data/'+\"V.csv\", \"rb\"), delimiter=',')\n",
    "                    #version with normalization by paper\n",
    "    \n",
    "df = pd.read_csv(home+'/Data/normalization.csv')\n",
    "maxima_parameters = df['max_M'].tolist()\n",
    "minima_parameters = df['min_M'].tolist()\n",
    "minimum_S = df['min_S'].tolist()\n",
    "maximum_S = df['max_S'].tolist()\n",
    "\n",
    "M_test = normalize_M_test(M_test,maxima_parameters,minima_parameters)\n",
    "\n",
    "\n",
    "S_predicted = predictions(N,DFNN,Decoder,latent_space,S_test,M_test,V,maximum_S[0],minimum_S[0])\n",
    "os.makedirs(path+'/Figures',exist_ok=True)\n",
    "#end of predicitons: after plots and analysis"
   ]
  },
  {
   "cell_type": "markdown",
   "metadata": {},
   "source": [
    "# Analysis\n",
    "The predictions are stored in S_predicted and you can compare it with S_test"
   ]
  },
  {
   "cell_type": "code",
   "execution_count": null,
   "metadata": {
    "scrolled": false
   },
   "outputs": [],
   "source": [
    "# this does the plots in time of the first testing set of parameters and compares them with S_test\n",
    "# careful to give the correct value of seconds per simulation (in this case 40)\n",
    "plots_in_time(S_test,S_predicted,cell_true,path+'/Figures',40,np.arange(35,40,1))\n",
    "\n"
   ]
  },
  {
   "cell_type": "code",
   "execution_count": null,
   "metadata": {},
   "outputs": [],
   "source": [
    "fig,ax = plt.subplots(1,4,figsize = (15,10))\n",
    "cm = plt.cm.get_cmap('RdYlBu_r')\n",
    "#ax = fig.gca(projection='3d')\n",
    "scatter_plot = ax[0].scatter(cell_true[:,0], cell_true[:,1], c = S_predicted[4,:], lw=0, s=20,cmap=cm)\n",
    "scatter_plot = ax[1].scatter(cell_true[:,0], cell_true[:,1], c = S_predicted[5,:], lw=0, s=20,cmap=cm)\n",
    "scatter_plot = ax[2].scatter(cell_true[:,0], cell_true[:,1], c = S_predicted[6,:], lw=0, s=20,cmap=cm)\n",
    "scatter_plot = ax[3].scatter(cell_true[:,0], cell_true[:,1], c = S_predicted[7,:], lw=0, s=20,cmap=cm)\n",
    "plt.colorbar(scatter_plot)"
   ]
  },
  {
   "cell_type": "code",
   "execution_count": null,
   "metadata": {},
   "outputs": [],
   "source": [
    "seconds = 80\n",
    "fig,ax = plt.subplots(80,3,figsize = (20,300))\n",
    "sec = 1.5\n",
    "for i in range(80):\n",
    "    \n",
    "    count = i\n",
    "    cm = plt.cm.get_cmap('RdYlBu_r')\n",
    "    #ax = fig.gca(projection='3d')\n",
    "    scatter_plot = ax[i][0].scatter(cell_true[:,0], cell_true[:,1], c = S_predicted[count,:], s=1,cmap=cm)\n",
    "    ax[i][0].set_title('Predicted t = '+str(sec))\n",
    "    ax[i][0].axis('off')\n",
    "    plt.colorbar(scatter_plot, ax=ax[i,0])\n",
    "    scatter_plot = ax[i][1].scatter(cell_true[:,0], cell_true[:,1], c = S_test[count,:], s=1,cmap=cm)\n",
    "    ax[i][1].set_title('FOM')\n",
    "    ax[i][1].axis('off')\n",
    "    plt.colorbar(scatter_plot, ax=ax[i,1])\n",
    "    scatter_plot = ax[i][2].scatter(cell_true[:,0], cell_true[:,1], c = np.abs(S_test[count,:]-S_predicted[count,:])/np.sqrt(1/seconds*np.sum(np.linalg.norm(S_test[0:seconds],axis=1)**2)), s=1,cmap=cm)\n",
    "    ax[i][2].set_title('Relative error')\n",
    "    ax[i][2].axis('off')\n",
    "    plt.colorbar(scatter_plot, ax=ax[i,2])\n",
    "    sec += 0.5\n",
    "plt.savefig(path+'/vWFs_with_41_second_t_final_allsec.png',dpi=150,facecolor='w',transparent=True)\n",
    "plt.show()"
   ]
  },
  {
   "cell_type": "code",
   "execution_count": null,
   "metadata": {},
   "outputs": [],
   "source": [
    "#error\n",
    "arr = []\n",
    "for i in range(40):\n",
    "    count = i+0\n",
    "    arr.append(np.mean(np.sum((S_predicted[count,:]-S_test[count,:])**2)**0.5))\n",
    "    print(np.mean(np.sum((S_predicted[count,:]-S_test[count,:])**2)**0.5))\n",
    "plt.plot(arr)"
   ]
  },
  {
   "cell_type": "code",
   "execution_count": null,
   "metadata": {},
   "outputs": [],
   "source": [
    "fig,ax = plt.subplots(1,3,figsize = (20,10))\n",
    "cm = plt.cm.get_cmap('RdYlBu_r')\n",
    "#ax = fig.gca(projection='3d')\n",
    "scatter_plot = ax[0].scatter(cell_true[:,0], cell_true[:,1], c = V1[:,0], lw=0, s=20,cmap=cm)\n",
    "plt.colorbar(scatter_plot, ax=ax[0])\n",
    "scatter_plot = ax[1].scatter(cell_true[:,0], cell_true[:,1], c = V2[:,0], lw=0, s=20,cmap=cm)\n",
    "plt.colorbar(scatter_plot, ax=ax[1])\n",
    "scatter_plot = ax[2].scatter(cell_true[:,0], cell_true[:,1], c = np.abs(S_predicted[20,:]), lw=0, s=20,cmap=cm)\n",
    "plt.colorbar(scatter_plot, ax=ax[2])\n"
   ]
  },
  {
   "cell_type": "code",
   "execution_count": null,
   "metadata": {},
   "outputs": [],
   "source": [
    "plt.figure(figsize = (10,10))\n",
    "plt.plot(S_test[0,:],label='0')\n",
    "#plt.plot(S_test[65,:],label='40')\n",
    "#plt.plot(((S_predicted[0,:])-np.array(S_test[0,:]))**2,label='Diff')\n",
    "plt.legend()"
   ]
  },
  {
   "cell_type": "code",
   "execution_count": null,
   "metadata": {
    "scrolled": true
   },
   "outputs": [],
   "source": [
    "first = plot_re_err(S_test,S_predicted,15,path,N)# 0.03238622082843075"
   ]
  },
  {
   "cell_type": "code",
   "execution_count": null,
   "metadata": {},
   "outputs": [],
   "source": [
    "plots_in_sim_interpolated(S_test,S_predicted,cell_true,path+'/Figures',41,40)"
   ]
  },
  {
   "cell_type": "code",
   "execution_count": null,
   "metadata": {},
   "outputs": [],
   "source": [
    "sec = plot_re_err(S_test,S_predicted,13,path,N)"
   ]
  },
  {
   "cell_type": "code",
   "execution_count": null,
   "metadata": {},
   "outputs": [],
   "source": [
    "fig,ax = plt.subplots(figsize = (20,10))\n",
    "ax.plot(np.arange(2,42,1),sec,'o',label = r'$N = 64,$ full interval, $ \\epsilon_G = 0.0324 $')\n",
    "ax.set_yscale('log')\n",
    "ax.set_xlabel('Second',fontsize=15)\n",
    "ax.set_ylabel('Relative error per second',fontsize=15)\n",
    "ax.set_xlim([0,42])\n",
    "ax.set_title('Relative error per second',fontsize=20)\n",
    "ax.plot(np.arange(2,42,1),first,'o',label = r'$N = 64,$ two intervals, $ \\epsilon_G = 0.0337 $',color = 'r')\n",
    "ax.set_ylim([0,30])\n",
    "plt.vlines(5.5,0,30,colors = 'r',linestyles='dashed')\n",
    "plt.legend(fontsize=14)\n",
    "plt.savefig(path+'relative_error_64_fulldouble.png',dpi=200,facecolor='w',transparent=True,bbox_inches='tight')"
   ]
  },
  {
   "cell_type": "code",
   "execution_count": null,
   "metadata": {},
   "outputs": [],
   "source": [
    "third = plot_re_err(S_test,S_predicted,40,path,N)"
   ]
  },
  {
   "cell_type": "code",
   "execution_count": null,
   "metadata": {},
   "outputs": [],
   "source": [
    "fig,ax = plt.subplots(figsize = (20,10))\n",
    "ax.plot(np.arange(2,42,1),first,'o', label= r'$N = 64,$ $ \\epsilon_G = 0.0323 $',markersize = 3)\n",
    "ax.set_yscale('log')\n",
    "ax.set_xlabel('Second',fontsize=15)\n",
    "ax.set_ylabel('Relative error per second',fontsize=15)\n",
    "ax.set_xlim([0,42])\n",
    "ax.set_title('Relative error per second',fontsize=20)\n",
    "ax.plot(np.arange(2,42,1),sec,'o', label =  r'$N = 256,$ $ \\epsilon_G = 0.0364 $',markersize = 3)\n",
    "ax.plot(np.arange(2,42,1),third,'o', label =  r'$N = 1024,$ $ \\epsilon_G = 0.3663 $',markersize = 3)\n",
    "plt.legend(fontsize=14)\n",
    "plt.savefig('relative_error_64_256_1024.png',dpi=200,facecolor='w',transparent=True,bbox_inches='tight')"
   ]
  },
  {
   "cell_type": "code",
   "execution_count": null,
   "metadata": {},
   "outputs": [],
   "source": [
    "plt.figure(figsize = (10,10))\n",
    "plt.plot(np.array(sec)[-23:]-np.array(first)[-23:],'*')\n",
    "#plt.yscale('log')\n",
    "plt.xlabel('Seconds')\n",
    "plt.ylabel('Difference relative error N = 64  and N = 256')"
   ]
  },
  {
   "cell_type": "code",
   "execution_count": null,
   "metadata": {},
   "outputs": [],
   "source": [
    "r = np.loadtxt(open(home+'/Data/'+\"M_trainV.csv\", \"rb\"), delimiter=',')"
   ]
  },
  {
   "cell_type": "code",
   "execution_count": null,
   "metadata": {},
   "outputs": [],
   "source": [
    "def normalize_S(S):\n",
    "    S_max = np.amax(S)\n",
    "    S_min = -np.amax(-S)\n",
    "    print(S_max)\n",
    "    print(S_min)\n",
    "    return (S-S_min)/(S_max-S_min)\n",
    "S = normalize_S(Input_before_norm)"
   ]
  },
  {
   "cell_type": "code",
   "execution_count": null,
   "metadata": {},
   "outputs": [],
   "source": [
    "I = np.zeros((200,6))\n",
    "for count,i in enumerate(S[0:200]):\n",
    "    inp_enc = tf.reshape(i,[-1,int(np.sqrt(N)),int(np.sqrt(N)),1])\n",
    "    I[count,:] = Encoder(inp_enc)"
   ]
  },
  {
   "cell_type": "code",
   "execution_count": null,
   "metadata": {},
   "outputs": [],
   "source": [
    "fig,ax = plt.subplots(10,4,figsize = (20,40))\n",
    "for i in range(10):\n",
    "    count = (4*i)+0\n",
    "    scatter_plot = ax[i][0].plot(I[count],'*')\n",
    "    ax[i][0].set_title('t = '+ str(count+2))\n",
    "    scatter_plot = ax[i][1].plot(I[count+1],'*')\n",
    "    ax[i][1].set_title('t = '+ str(count+2+1))\n",
    "    scatter_plot = ax[i][2].plot(I[count+2],'*')\n",
    "    ax[i][2].set_title('t = '+ str(count+2+2))\n",
    "    scatter_plot = ax[i][3].plot(I[count+3],'*')\n",
    "    ax[i][3].set_title('t = '+ str(count+2+3))\n",
    "\n",
    "plt.savefig('out_enc2.png',dpi = 200,facecolor='w',transparent=True)"
   ]
  },
  {
   "cell_type": "code",
   "execution_count": null,
   "metadata": {},
   "outputs": [],
   "source": [
    "print(I[0])\n",
    "print(I[40])\n",
    "print(I[160])"
   ]
  },
  {
   "cell_type": "code",
   "execution_count": null,
   "metadata": {},
   "outputs": [],
   "source": [
    "print(5e-3)"
   ]
  }
 ],
 "metadata": {
  "kernelspec": {
   "display_name": "Python 3",
   "language": "python",
   "name": "python3"
  },
  "language_info": {
   "codemirror_mode": {
    "name": "ipython",
    "version": 3
   },
   "file_extension": ".py",
   "mimetype": "text/x-python",
   "name": "python",
   "nbconvert_exporter": "python",
   "pygments_lexer": "ipython3",
   "version": "3.9.12"
  }
 },
 "nbformat": 4,
 "nbformat_minor": 4
}
