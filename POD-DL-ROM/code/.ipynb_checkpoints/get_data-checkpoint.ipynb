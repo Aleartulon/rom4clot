{
 "cells": [
  {
   "cell_type": "markdown",
   "metadata": {},
   "source": [
    "# POD-DL-ROM\n",
    "This code prepares the data to be given to the POD-DL-ROM structure described in https://www.sciencedirect.com/science/article/pii/S0045782521005120. Read carefully the comments at the beginning of every block. Every block is numbered accordingly to the order it should be called. At the beginning you will have to choose whether to use blood clots data or generic data you want to use: follow direction a for blood clot or b for what you want. At the end the input and testing files will go to the path: ../MODELS/specie/interval/N/Data, where MODELS is a generic directory which contains all the different cases we want to analyze (species, number of modes), specie defines the biochemical specie we want to study, interval is used to separate the data when we train indipendently based on a cluster, N is the number of modes, Data is a directory which contains the inputs for the DL-ROM structure (coefficients and parameters), the POD basis V and the testing files."
   ]
  },
  {
   "cell_type": "markdown",
   "metadata": {},
   "source": [
    "# LIBRARIES AND FUNCTIONS"
   ]
  },
  {
   "cell_type": "code",
   "execution_count": null,
   "metadata": {},
   "outputs": [],
   "source": [
    "#1\n",
    "import numpy as np\n",
    "import matplotlib.pyplot as plt\n",
    "import time\n",
    "import scipy.interpolate\n",
    "import os\n",
    "import copy\n",
    "import pandas as pd\n",
    "import csv\n",
    "from scipy.interpolate import griddata\n",
    "from numpy import savetxt\n",
    "import sklearn.utils.extmath\n",
    "import progressbar\n",
    "from time import sleep"
   ]
  },
  {
   "cell_type": "code",
   "execution_count": null,
   "metadata": {},
   "outputs": [],
   "source": [
    "#2\n",
    "def get_field(path,simulations,seconds,mesh,field):\n",
    "    Ns = len(simulations)*len(seconds)\n",
    "    S = np.zeros((Ns,mesh))\n",
    "    row = 0\n",
    "    bar = progressbar.ProgressBar(maxval=len(simulations), \\\n",
    "    widgets=[progressbar.Bar('=', '[', ']'), ' ', progressbar.Percentage()])\n",
    "    bar.start()\n",
    "    for i,s in enumerate(simulations):\n",
    "        bar.update(i+1)\n",
    "        for t in seconds:\n",
    "            data = get_data(path+'/'+'sim_'+str(s)+'/'+str(t)+'/'+field,mesh)\n",
    "            S[row,:] = data\n",
    "            row+=1\n",
    "        sleep(0.1)\n",
    "    bar.finish()\n",
    "    return S\n",
    "\n",
    "def get_data(path,mesh):\n",
    "    with open(path, 'r') as file:\n",
    "        output = [None]*mesh\n",
    "        count = 0\n",
    "        start = False\n",
    "        for line in file:\n",
    "            #print(str(line))\n",
    "            if line[0] == ')':\n",
    "                break\n",
    "            if start:\n",
    "                output[count] = (float(line))\n",
    "                #print(output[count])\n",
    "                count +=1\n",
    "            if line[0] == \"(\":\n",
    "                start = True\n",
    "        return np.array(output)\n",
    "\n",
    "def read_files_centers(file_path):\n",
    "    with open(file_path, 'r') as file:\n",
    "        if file_path[-1] != 'U':\n",
    "            lines = np.array(file.read().split(\"\\n\"))\n",
    "            start = np.where(lines == \"(\")\n",
    "            end = np.where(lines == \")\")\n",
    "            if len(start[0]) != 0:\n",
    "                output = np.array(lines[start[0][0]+1:end[0][0]])\n",
    "                return output\n",
    "            else:\n",
    "                return []\n",
    "        else:\n",
    "            U = read_U(file_path)\n",
    "            return U\n",
    "\n",
    "def M_matrix(simulations,time,parameters,path):\n",
    "    file = open(path+'/X_LHS_Uniform.csv')\n",
    "    csvreader = csv.reader(file)\n",
    "    #header = next(csvreader)\n",
    "    #print(header)\n",
    "    rows = []\n",
    "    for count,row in enumerate(csvreader):\n",
    "        if count+1<=simulations:\n",
    "            rows.append(row)\n",
    "        else: \n",
    "            break\n",
    "    file.close()\n",
    "    M = np.zeros((simulations*len(time),parameters))#parameters = parameters+1\n",
    "    count = 0\n",
    "    for i in rows:\n",
    "        for t in time:\n",
    "            first = np.array([t])\n",
    "            second = np.array(i)\n",
    "            #print(count*time+t)\n",
    "            M[count,:] = np.concatenate([first,second])\n",
    "            count+=1\n",
    "    return M\n",
    "\n",
    "def normalize_M(M,path):\n",
    "    M_norm = np.zeros((np.shape(M)[0],np.shape(M)[1]))\n",
    "    M_max = np.amax(M, axis=0)\n",
    "    M_min = -np.amax(-M,axis=0)\n",
    "    df = pd.read_csv(path+'/normalization.csv') \n",
    "    df['max_M'] = M_max\n",
    "    df.to_csv(path+'/normalization.csv',index=False)\n",
    "    df['min_M'] = M_min\n",
    "    df.to_csv(path+'/normalization.csv',index=False)\n",
    "    for i in range(np.shape(M)[0]):\n",
    "        for j in range(np.shape(M)[1]):\n",
    "            M_norm[i,j] = (M[i,j]- M_min[j])/(M_max[j]-M_min[j])\n",
    "    return M_norm\n",
    "\n",
    "def normalize_S(S,path,n_params):\n",
    "    S_max = np.amax(S)\n",
    "    S_min = -np.amax(-S)\n",
    "    maxi = [None]*n_params\n",
    "    mini = [None]*n_params\n",
    "    maxi[0] = S_max\n",
    "    mini[0] = S_min\n",
    "    maxmin = {'max_S':maxi,'min_S':mini}\n",
    "    df = pd.DataFrame(maxmin,dtype = 'float')\n",
    "    df.to_csv(path+'normalization.csv')\n",
    "    return (S-S_min)/(S_max-S_min)\n",
    "        \n",
    "def inverse_normalize_S(s):\n",
    "    S_max = np.amax(S)\n",
    "    S_min = -np.amax(-S)\n",
    "    return (S_max-S_min)*S+S_min\n",
    "\n",
    "def inverse_normalize_M(M):\n",
    "    M_norm = np.zeros((np.shape(M)[0],np.shape(M)[1]))\n",
    "    M_max = np.amax(M, axis=0)\n",
    "    M_min = -np.amax(-M,axis=0)\n",
    "    for i in range(np.shape(M)[0]):\n",
    "        for j in range(np.shape(M)[1]):\n",
    "            M_norm[i,j] = (M_max[j]-M_min[j])*M[j,i]+M_min[j]\n",
    "    return M_norm\n",
    "\n",
    "def velocity_field(S,dt = 1):\n",
    "    x,y = np.shape(S)\n",
    "    new_S = np.zeros((x,y))\n",
    "    for i in range(x):\n",
    "        if i%40==0:\n",
    "            new_S[i,:] = S[i,:]\n",
    "        else:\n",
    "            new_S[i,:] = (S[i,:]-S[i-1,:])/dt\n",
    "            \n",
    "    return new_S\n",
    "\n",
    "def get_av_max_min_persec(S):\n",
    "    arr_ma = np.zeros(40)\n",
    "    arr_mi = np.zeros(40)\n",
    "    for i in range(40):\n",
    "        ma = 0\n",
    "        mi = 0\n",
    "        for j in range(95):\n",
    "            ma = max(ma,np.amax(S[i+j*40,:]))\n",
    "            mi = min(mi,-np.amax(-S[i+j*40,:]))\n",
    "            \n",
    "        arr_ma[i] = ma\n",
    "        arr_mi[i] = mi\n",
    "    return arr_ma,arr_mi\n",
    "    \n",
    "def normalize_bysec(S,ma,mi):\n",
    "    x = np.shape(S)[0]\n",
    "    y = np.shape(S)[1]\n",
    "    S_norm = np.zeros((x,y))\n",
    "    for i in range(x):\n",
    "        S_norm[i,:] = (S[i,:]-mi[i%40])/(ma[i%40]-mi[i%40])\n",
    "    return S_norm\n",
    "\n",
    "def get_max_min_feature(S):\n",
    "    mean = np.mean(S,axis = 0)\n",
    "    std = -np.std(-S,axis = 0)\n",
    "    return mean,std\n",
    "\n",
    "def normalize_s_byfeature(S,mean,std):\n",
    "    S_norm = np.zeros((np.shape(S)[0],np.shape(S)[1]))\n",
    "    for i in range(np.shape(S)[0]):\n",
    "        for j in range(np.shape(S)[1]):\n",
    "            S_norm[i,j] = (S[i,j]-mean[j])/std[j]\n",
    "    return S_norm\n",
    "\n",
    "\n",
    "def padding(S,n):\n",
    "    arr = np.zeros((np.shape(S)[0],n))\n",
    "    S = np.hstack((S,arr))\n",
    "    return S\n",
    "\n",
    "def which_padding(length):\n",
    "    count = 0\n",
    "    while True:\n",
    "        if (length+count)**0.5 ==int((length+count)**0.5):\n",
    "            return count\n",
    "        else:\n",
    "            count+=1\n",
    "            \n",
    "def variance_simulations(S,t,seconds,sim):\n",
    "    x,y = np.shape(S)\n",
    "    var_mat = np.zeros((sim,y))\n",
    "    for i in range(sim):\n",
    "        var_mat[i,:] = S[(t-2)+i*seconds,:]   \n",
    "    var_arr = np.std(var_mat,axis=0)\n",
    "    ma = np.amax(var_arr)\n",
    "    mi = np.amin(var_arr)\n",
    "    return (var_arr-mi)/(ma-mi)\n",
    "    \n",
    "def KPOD(S,gamma,N):\n",
    "    S = S.T\n",
    "    x,y = np.shape(S)\n",
    "    K = np.zeros((y,y))\n",
    "    bar = progressbar.ProgressBar(maxval=y, \\\n",
    "    widgets=[progressbar.Bar('=', '[', ']'), ' ', progressbar.Percentage()])\n",
    "    bar.start()\n",
    "    for i in range(y):\n",
    "        bar.update(i+1)\n",
    "        for j in range(y):\n",
    "            if j>i:\n",
    "                K[i,j] = np.exp(-gamma*np.linalg.norm(S[:,i]-S[:,j])**2)\n",
    "            elif j == i:\n",
    "                K[i,j] = 1\n",
    "            else:\n",
    "                K[i,j] = K[j,i]\n",
    "        sleep(0.1)\n",
    "    bar.finish()\n",
    "    l,v = np.linalg.eig(K)\n",
    "    print('eig done')\n",
    "    a = []\n",
    "    for i in v:\n",
    "        a.append(i.real.copy())\n",
    "    P = np.zeros((x,y))\n",
    "    bar = progressbar.ProgressBar(maxval=y, \\\n",
    "    widgets=[progressbar.Bar('=', '[', ']'), ' ', progressbar.Percentage()])\n",
    "    bar.start()\n",
    "    for i in range(y):\n",
    "        bar.update(i+1)\n",
    "        P[:,i] = 1/np.sqrt(l[i])*np.matmul(S,a[i])\n",
    "        sleep(0.1)\n",
    "    bar.finish()\n",
    "    q,r = np.linalg.qr(P)\n",
    "    return K,l,q,r\n",
    "\n",
    "def formatNumber(num):\n",
    "    arr = []\n",
    "    for count,i in enumerate(num):\n",
    "        if i % 1 == 0:\n",
    "            arr.append(int(i))\n",
    "        else:\n",
    "            arr.append(i)\n",
    "    return arr\n",
    "\n",
    "def interpolate(x,y,z,step,method = 'cubic'):\n",
    "    xi = np.arange(0,0.0006,step)\n",
    "    yi = np.arange(0,0.0035,step)\n",
    "    xi,yi = np.meshgrid(xi,yi)\n",
    "    mask = ((xi > 0.0001) & (yi < 0.00118)) | ((xi > 7.9e-5) & (yi < 0.001784)&(yi > 0.001604))\n",
    "    # interpolate\n",
    "    zi = griddata((x,y),z,(xi,yi),method=method)\n",
    "    zi[mask] = np.nan\n",
    "    return xi,yi,zi"
   ]
  },
  {
   "cell_type": "markdown",
   "metadata": {},
   "source": [
    "# ACQUISITION OF DATA\n",
    "You can choose the direction a or direction b. In the first case you will take blood clots data, in the second one you will take whatever data you have already prepared. The matrices S and M are collected accordingly to the paper cited at the beginning. Notice that here we take the transposed of what is said in the paper, since it is easier to deal with them like this with python."
   ]
  },
  {
   "cell_type": "code",
   "execution_count": null,
   "metadata": {},
   "outputs": [],
   "source": [
    "#3a\n",
    "#use this if you want blood clot simulations \n",
    "#choose exactly which simulations and which seconds from the simulations you want to get\n",
    "which_sim = np.arange(1,101,1)\n",
    "print('Simulation taken = '+str(which_sim))\n",
    "print('Number of simulation taken = '  +str(len(which_sim)))\n",
    "range_time = np.arange(2,42,1)\n",
    "rang_time = formatNumber(range_time)\n",
    "print('Time interval = '+str(range_time))\n",
    "print('Length simulation = '  +str(len(range_time)))\n",
    "\n",
    "#specify the biochemical specie, the number of POD modes N and in which interval you want to save the data\n",
    "#the interval is used if you want to train indipendently for example three clusters. If you want to do all\n",
    "#together just choose interval = 'full'. You also define the number of parameters used\n",
    "specie = 'vWFs'\n",
    "N = 64\n",
    "interval = 'full'\n",
    "n_params = 6 #including time"
   ]
  },
  {
   "cell_type": "code",
   "execution_count": null,
   "metadata": {
    "scrolled": false
   },
   "outputs": [],
   "source": [
    "#4a\n",
    "#get data from file; be careful to the name of the file and to the directory where the simulations is saved\n",
    "\n",
    "basic_data = '../'\n",
    "S = (get_field(basic_data+'/DoE',which_sim,range_time,68650,specie))\n",
    "M =(M_matrix(len(which_sim),range_time,6,basic_data))\n",
    "cell_centers = read_files_centers(basic_data+'/cellCenters')\n",
    "cell_true = []\n",
    "for i in cell_centers:\n",
    "    cell_true.append(np.array(i[1:-1].split()).astype(np.float64))\n",
    "cell_true = np.array(cell_true)\n",
    "print('Shape S = ' + str(np.shape(S)))\n",
    "print('Shape M = '+ str(np.shape(M)))"
   ]
  },
  {
   "cell_type": "code",
   "execution_count": null,
   "metadata": {},
   "outputs": [],
   "source": [
    "#5a\n",
    "#create the necessary directories\n",
    "path = '../MODELS/'+specie+'/'+interval+'/'+str(N)+'/'+'Data/'\n",
    "os.makedirs(path,exist_ok=True)"
   ]
  },
  {
   "cell_type": "code",
   "execution_count": null,
   "metadata": {},
   "outputs": [],
   "source": [
    "#3b\n",
    "#use only if you have not used direction a!\n",
    "\n",
    "#Define S and M as above\n",
    "S = #you know it\n",
    "M = #you know it "
   ]
  },
  {
   "cell_type": "code",
   "execution_count": null,
   "metadata": {},
   "outputs": [],
   "source": [
    "#4b #use only if you have not used direction a!"
   ]
  },
  {
   "cell_type": "code",
   "execution_count": null,
   "metadata": {},
   "outputs": [],
   "source": [
    "#5b\n",
    "#use only if you have not used direction a!\n",
    "\n",
    "#create the necessary directories\n",
    "path = 'whatever you want'\n",
    "os.makedirs(path)\n",
    "os.makedirs(path,exist_ok=True)"
   ]
  },
  {
   "cell_type": "markdown",
   "metadata": {},
   "source": [
    "# PREPARE INPUT DATA AND COMPUTE POD\n",
    "Now you do not have dependance on a or b"
   ]
  },
  {
   "cell_type": "code",
   "execution_count": null,
   "metadata": {},
   "outputs": [],
   "source": [
    "#6\n",
    "\n",
    "#divide S and M in train and test. Change the ratio training/test as you want.\n",
    "S_train = copy.copy(S[0:3800])\n",
    "S_test = copy.copy(S[-200:])\n",
    "M_train = copy.copy(M[0:3800])\n",
    "M_test = copy.copy(M[-200:])\n",
    "print('S_train length = '+str(np.shape(S_train)))\n",
    "print('S_test length = '+str(np.shape(S_test)))\n",
    "print('M_train length = '+str(np.shape(M_train)))\n",
    "print('S_test length = '+str(np.shape(M_test)))"
   ]
  },
  {
   "cell_type": "code",
   "execution_count": null,
   "metadata": {},
   "outputs": [],
   "source": [
    "#7\n",
    "\n",
    "#performs random SVD on S_train given N number of modes\n",
    "_,s,v = sklearn.utils.extmath.randomized_svd(S_train,N,random_state = 8) #0.8597410118425659 0.98364044904060282"
   ]
  },
  {
   "cell_type": "code",
   "execution_count": null,
   "metadata": {},
   "outputs": [],
   "source": [
    "#8\n",
    "\n",
    "#define basis Matrix V and Input coefficients of the Encoder\n",
    "V_transp = v\n",
    "Input = np.zeros((np.shape(S_train)[0],N))\n",
    "print('Shape of V = '+str(np.shape(V_transp)))\n",
    "print('Shape of Input = '+str(np.shape(Input)))"
   ]
  },
  {
   "cell_type": "code",
   "execution_count": null,
   "metadata": {},
   "outputs": [],
   "source": [
    "#9\n",
    "#project the snapshot onto V in order to get the coefficients which will be the input of the Encoder\n",
    "\n",
    "for count,data in enumerate(S_train):\n",
    "    Input[count,:] = np.matmul(V_transp,data)\n",
    "print('Shape of Input = '+str(np.shape(Input)))\n"
   ]
  },
  {
   "cell_type": "code",
   "execution_count": null,
   "metadata": {
    "scrolled": true
   },
   "outputs": [],
   "source": [
    "#10\n",
    "\n",
    "# normalization as explained in the paper and save statistics of normalization to use them during testing\n",
    "\n",
    "Input = normalize_S(Input,path,n_params)\n",
    "M_norm = normalize_M(M_train,path)"
   ]
  },
  {
   "cell_type": "code",
   "execution_count": null,
   "metadata": {},
   "outputs": [],
   "source": [
    "#11\n",
    "\n",
    "#save training matrices\n",
    "\n",
    "savetxt(path+'/Input.csv', Input, delimiter=',')\n",
    "savetxt(path+'/M_train.csv',M_norm,delimiter = ',')\n",
    "print('Shape of Input = '+str(np.shape(Input)))\n",
    "print('Shape of M = '+str(np.shape(M_norm)))"
   ]
  },
  {
   "cell_type": "code",
   "execution_count": null,
   "metadata": {
    "scrolled": true
   },
   "outputs": [],
   "source": [
    "#12\n",
    "\n",
    "#save test matrices\n",
    "\n",
    "savetxt(path+'/S_test.csv', S_test, delimiter=',')\n",
    "savetxt(path+'/M_test.csv', M_test, delimiter=',')\n",
    "print('Shape of S_test = '+str(np.shape(S_test)))\n",
    "print('Shape of M_test = '+str(np.shape(M_test)))"
   ]
  },
  {
   "cell_type": "code",
   "execution_count": null,
   "metadata": {},
   "outputs": [],
   "source": [
    "#13\n",
    "\n",
    "#save V matrix\n",
    "savetxt(path+'/V.csv', v.transpose(), delimiter=',')\n",
    "print('Shape of V = '+str(np.shape(v.transpose())))\n",
    "\n",
    "#end acquisition of data. Below just some analysis, no need to run them but it's a good practice to \n",
    "#plot the input files to see if everything is as expected"
   ]
  },
  {
   "cell_type": "markdown",
   "metadata": {},
   "source": [
    "# END OF ACQUISITION AND TREATMENT OF DATA\n",
    "\n",
    "Now you can send Input and M_train to the cluster to run them. But before you should look at the data below to be sure they are correct"
   ]
  },
  {
   "cell_type": "code",
   "execution_count": null,
   "metadata": {},
   "outputs": [],
   "source": [
    "#control variance over simulations\n",
    "var_arr = variance_simulations(S,39,40,100)\n"
   ]
  },
  {
   "cell_type": "code",
   "execution_count": null,
   "metadata": {},
   "outputs": [],
   "source": [
    "fig,ax = plt.subplots(figsize = (10,10))\n",
    "cm = plt.cm.get_cmap('RdYlBu_r')\n",
    "#ax = fig.gca(projection='3d')\n",
    "scatter_plot = ax.scatter(cell_true[:,0], cell_true[:,1], c = var_arr, lw=0, s=1,cmap=cm)\n",
    "plt.colorbar(scatter_plot)"
   ]
  },
  {
   "cell_type": "code",
   "execution_count": null,
   "metadata": {},
   "outputs": [],
   "source": [
    "from scipy import interpolate\n",
    "fun = interpolate.interp2d(cell_true[:,0], cell_true[:,1],S[498,:] , kind='linear')"
   ]
  },
  {
   "cell_type": "code",
   "execution_count": null,
   "metadata": {
    "scrolled": false
   },
   "outputs": [],
   "source": [
    "#check POD modes\n",
    "t = 4\n",
    "fig,ax = plt.subplots(1,4,figsize = (20,10))\n",
    "cm = plt.cm.get_cmap('RdYlBu_r')\n",
    "#ax = fig.gca(projection='3d')\n",
    "scatter_plot = ax[0].scatter(cell_true[:,0], cell_true[:,1], c = S[498,:], lw=0, s=1,cmap=cm)\n",
    "plt.colorbar(scatter_plot, ax=ax[0])\n",
    "scatter_plot = ax[1].scatter(cell_true[:,0], cell_true[:,1], c = S2[498,:], lw=0, s=1,cmap=cm)\n",
    "plt.colorbar(scatter_plot, ax=ax[1])\n",
    "scatter_plot = ax[2].scatter(cell_true[:,0], cell_true[:,1], c = S[777,:], lw=0, s=1,cmap=cm)\n",
    "plt.colorbar(scatter_plot, ax=ax[2])\n",
    "scatter_plot = ax[3].scatter(cell_true[:,0], cell_true[:,1], c = S2[777,:], lw=0, s=1,cmap=cm)\n",
    "plt.colorbar(scatter_plot, ax=ax[3])\n",
    "plt.savefig('/people/longhi/Bureau/Useful_pic/firstmodes1-4_'+str(t)+'.png',dpi=150,facecolor='w',transparent=True)\n"
   ]
  },
  {
   "cell_type": "code",
   "execution_count": null,
   "metadata": {},
   "outputs": [],
   "source": [
    "fig,ax = plt.subplots(1,4,figsize = (15,10))\n",
    "cm = plt.cm.get_cmap('RdYlBu_r')\n",
    "#ax = fig.gca(projection='3d')\n",
    "scatter_plot = ax[0].scatter(cell_true[:,0], cell_true[:,1], c = v[4,:], lw=0, s=1,cmap=cm)\n",
    "scatter_plot = ax[1].scatter(cell_true[:,0], cell_true[:,1], c = v[5,:], lw=0, s=1,cmap=cm)\n",
    "scatter_plot = ax[2].scatter(cell_true[:,0], cell_true[:,1], c = v[6,:], lw=0, s=1,cmap=cm)\n",
    "scatter_plot = ax[3].scatter(cell_true[:,0], cell_true[:,1], c = v[7,:], lw=0, s=1,cmap=cm)\n",
    "plt.colorbar(scatter_plot)\n",
    "plt.savefig('/people/longhi/Bureau/Useful_pic/first_modes5-8_'+str(t)+'.png',dpi=150,facecolor='w',transparent=True)"
   ]
  },
  {
   "cell_type": "code",
   "execution_count": null,
   "metadata": {
    "scrolled": true
   },
   "outputs": [],
   "source": [
    "fig,ax = plt.subplots(1,4,figsize = (15,10))\n",
    "cm = plt.cm.get_cmap('RdYlBu_r')\n",
    "#ax = fig.gca(projection='3d')\n",
    "scatter_plot = ax[0].scatter(cell_true[:,0], cell_true[:,1], c = v[8,:], lw=0, s=20,cmap=cm)\n",
    "scatter_plot = ax[1].scatter(cell_true[:,0], cell_true[:,1], c = v[9,:], lw=0, s=20,cmap=cm)\n",
    "scatter_plot = ax[2].scatter(cell_true[:,0], cell_true[:,1], c = v[10,:], lw=0, s=20,cmap=cm)\n",
    "scatter_plot = ax[3].scatter(cell_true[:,0], cell_true[:,1], c = v[11,:], lw=0, s=20,cmap=cm)\n",
    "plt.colorbar(scatter_plot)\n",
    "plt.savefig('/people/longhi/Bureau/Useful_pic/first_modes9-12_'+str(t)+'.png',dpi=150,facecolor='w',transparent=True)"
   ]
  },
  {
   "cell_type": "code",
   "execution_count": null,
   "metadata": {},
   "outputs": [],
   "source": [
    "x1,x2,m1 = interpolate(cell_true[:,0],cell_true[:,1],v[0,:],1e-6)\n",
    "x1,x2,S1 = interpolate(cell_true[:,0],cell_true[:,1],S_train[39,:],1e-6)\n",
    "x1,x2,m2 = interpolate(cell_true[:,0],cell_true[:,1],v[1,:],1e-6)\n",
    "x1,x2,S2 = interpolate(cell_true[:,0],cell_true[:,1],S_train[20,:],1e-6)\n",
    "x1,x2,m3 = interpolate(cell_true[:,0],cell_true[:,1],v[142,:],1e-6)\n",
    "x1,x2,S3 = interpolate(cell_true[:,0],cell_true[:,1],S_train[0,:],1e-6)"
   ]
  },
  {
   "cell_type": "code",
   "execution_count": null,
   "metadata": {
    "scrolled": true
   },
   "outputs": [],
   "source": [
    "fig,ax = plt.subplots(2,3,figsize = (15,10))\n",
    "cm = plt.cm.get_cmap('jet')\n",
    "#ax = fig.gca(projection='3d')\n",
    "scatter_plot = ax[0][0].scatter(x1, x2, c = m1, lw=0, s=0.5,cmap=cm)\n",
    "plt.colorbar(scatter_plot, ax=ax[0][0], label = 'nmol $m^{-3}$')\n",
    "ax[0][0].axis('off')\n",
    "ax[0][0].set_title('Mode number 1')\n",
    "scatter_plot = ax[1][0].scatter(x1, x2, c = S1, lw=0, s=0.5,cmap=cm)\n",
    "plt.colorbar(scatter_plot, ax=ax[1][0], label = 'nmol $m^{-3}$')\n",
    "ax[1][0].axis('off')   \n",
    "ax[1][0].set_title('Snapshot, t = 41 s')\n",
    "scatter_plot = ax[0][1].scatter(x1, x2, c = m2, lw=0, s=0.5,cmap=cm)\n",
    "plt.colorbar(scatter_plot, ax=ax[0][1], label = 'nmol $m^{-3}$')\n",
    "ax[0][1].axis('off')\n",
    "ax[0][1].set_title('Mode number 2')\n",
    "scatter_plot = ax[1][1].scatter(x1, x2, c = S2, lw=0, s=0.5,cmap=cm)\n",
    "plt.colorbar(scatter_plot, ax=ax[1][1], label = 'nmol $m^{-3}$')\n",
    "ax[1][1].axis('off')\n",
    "ax[1][1].set_title('Snapshot, t = 22 s')\n",
    "scatter_plot = ax[0][2].scatter(x1, x2, c = m3, lw=0, s=0.5,cmap=cm)\n",
    "plt.colorbar(scatter_plot, ax=ax[0][2], label = 'nmol $m^{-3}$')\n",
    "ax[0][2].axis('off')\n",
    "ax[0][2].set_title('Mode number 142')\n",
    "scatter_plot = ax[1][2].scatter(x1, x2, c = S3, lw=0, s=0.5,cmap=cm)\n",
    "plt.colorbar(scatter_plot, ax=ax[1][2], label = 'nmol $m^{-3}$')\n",
    "ax[1][2].axis('off')\n",
    "ax[1][2].set_title('Snapshot, t = 2 s')\n",
    "plt.savefig('modes_snapshot.png',dpi=200,facecolor='w',transparent=True,bbox_inches='tight')"
   ]
  },
  {
   "cell_type": "code",
   "execution_count": null,
   "metadata": {},
   "outputs": [],
   "source": [
    "a = []\n",
    "num = 0\n",
    "for count,i in enumerate(v1):\n",
    "    scal = np.matmul(i,S_train[num,:])/(np.linalg.norm(i)*np.linalg.norm(S_train[num,:]))\n",
    "    a.append(scal)\n",
    "    if np.abs(scal) > 0.2:\n",
    "        print(scal)\n",
    "        print(count)\n",
    "        print('next')\n",
    "    \n",
    "plt.figure()\n",
    "plt.plot(a,'*')\n",
    "#plt.xlim([0,300])"
   ]
  },
  {
   "cell_type": "code",
   "execution_count": null,
   "metadata": {},
   "outputs": [],
   "source": [
    "fig,ax = plt.subplots(1,2,figsize = (15,10))\n",
    "cm = plt.cm.get_cmap('RdYlBu_r')\n",
    "#ax = fig.gca(projection='3d')\n",
    "scatter_plot = ax[0].scatter(cell_true[:,0], cell_true[:,1], c = S[0,:], s=1,cmap=cm)\n",
    "plt.colorbar(scatter_plot, ax=ax[0])\n",
    "scatter_plot = ax[1].scatter(cell_true[:,0], cell_true[:,1], c = v[0,:], s=1,cmap=cm)\n",
    "plt.colorbar(scatter_plot, ax=ax[1])"
   ]
  },
  {
   "cell_type": "code",
   "execution_count": null,
   "metadata": {},
   "outputs": [],
   "source": [
    "B = np.matmul(np.diag(s),v)\n",
    "np.shape(v)"
   ]
  },
  {
   "cell_type": "code",
   "execution_count": null,
   "metadata": {},
   "outputs": [],
   "source": [
    "a = []\n",
    "num = 0\n",
    "for count,i in enumerate(B):\n",
    "    scal = np.matmul(i,S_train[num,:])/(np.linalg.norm(i)*np.linalg.norm(S_train[num,:]))\n",
    "    a.append(scal)\n",
    "    if scal > 0.2:\n",
    "        print(scal)\n",
    "        print(count)\n",
    "        print('next')\n",
    "    \n",
    "plt.figure()\n",
    "plt.plot(a)\n",
    "\n",
    "#plt.xlim([0,500])"
   ]
  },
  {
   "cell_type": "code",
   "execution_count": null,
   "metadata": {},
   "outputs": [],
   "source": [
    "fig,ax = plt.subplots(1,4,figsize = (15,10))\n",
    "cm = plt.cm.get_cmap('RdYlBu_r')\n",
    "#ax = fig.gca(projection='3d')\n",
    "scatter_plot = ax[0].scatter(cell_true[:,0], cell_true[:,1], c = v[:,0], lw=0, s=20,cmap=cm)\n",
    "scatter_plot = ax[1].scatter(cell_true[:,0], cell_true[:,1], c = v[:,1], lw=0, s=20,cmap=cm)\n",
    "scatter_plot = ax[2].scatter(cell_true[:,0], cell_true[:,1], c = v[:,2], lw=0, s=20,cmap=cm)\n",
    "scatter_plot = ax[3].scatter(cell_true[:,0], cell_true[:,1], c = v[:,3], lw=0, s=20,cmap=cm)\n",
    "plt.colorbar(scatter_plot)"
   ]
  },
  {
   "cell_type": "code",
   "execution_count": null,
   "metadata": {},
   "outputs": [],
   "source": [
    "q,r = KPOD(S,1e-5,256)"
   ]
  },
  {
   "cell_type": "code",
   "execution_count": null,
   "metadata": {},
   "outputs": [],
   "source": [
    "fig,ax = plt.subplots(1,4,figsize = (15,10))\n",
    "cm = plt.cm.get_cmap('RdYlBu_r')\n",
    "#ax = fig.gca(projection='3d')\n",
    "scatter_plot = ax[0].scatter(cell_true[:,0], cell_true[:,1], c = q[:,0], lw=0, s=20,cmap=cm)\n",
    "scatter_plot = ax[1].scatter(cell_true[:,0], cell_true[:,1], c = q[:,1], lw=0, s=20,cmap=cm)\n",
    "scatter_plot = ax[2].scatter(cell_true[:,0], cell_true[:,1], c = q[:,2], lw=0, s=20,cmap=cm)\n",
    "scatter_plot = ax[3].scatter(cell_true[:,0], cell_true[:,1], c = q[:,3], lw=0, s=20,cmap=cm)\n",
    "plt.colorbar(scatter_plot)"
   ]
  },
  {
   "cell_type": "code",
   "execution_count": null,
   "metadata": {},
   "outputs": [],
   "source": [
    "c = []\n",
    "num = 20\n",
    "for count,i in enumerate(v2[0:256]):\n",
    "    scal = np.matmul(i,S_test[num,:])/(np.linalg.norm(i)*np.linalg.norm(S_test[num,:]))\n",
    "    c.append(scal)\n",
    "    if np.abs(scal) > 0.2:\n",
    "        print(scal)\n",
    "        print(count)\n",
    "        print('next')\n",
    "    \n",
    "plt.figure()\n",
    "plt.plot(c)\n",
    "\n",
    "#plt.xlim([0,500])"
   ]
  },
  {
   "cell_type": "code",
   "execution_count": null,
   "metadata": {},
   "outputs": [],
   "source": [
    "fig,ax = plt.subplots(1,2,figsize = (17,8))\n",
    "ax[0].plot(np.arange(1,257,1),s*s/np.sum(s*s),'*')\n",
    "ax[0].set_yscale('log')\n",
    "ax[0].set_title('Singular values of AP',fontsize=16)\n",
    "ax[0].set_xlabel('Mode',fontsize=14)\n",
    "ax[0].set_ylabel('Energy',fontsize=14)\n",
    "ax[1].plot(np.arange(1,257,1),s2*s2/np.sum(s2*s2),'*')\n",
    "ax[1].set_yscale('log')\n",
    "ax[1].set_title('Singular values of vWFs',fontsize=16)\n",
    "ax[1].set_xlabel('Mode',fontsize=14)\n",
    "ax[1].set_ylabel('Energy',fontsize=14)\n",
    "plt.savefig('singularvalue.png',dpi=150,facecolor='w',transparent=True,bbox_inches='tight' )\n",
    "print(s*s/np.sum(s*s))"
   ]
  },
  {
   "cell_type": "code",
   "execution_count": null,
   "metadata": {},
   "outputs": [],
   "source": [
    "ap = 0\n",
    "vwfs = 0\n",
    "for i in range(256):\n",
    "    if (s*s)[i]/np.sum(s*s)>10**(-3):\n",
    "        ap+=1\n",
    "    if (s2*s2)[i]/np.sum(s2*s2)>10**(-3):\n",
    "        vwfs+=1\n",
    "print(ap) \n",
    "print(vwfs)"
   ]
  },
  {
   "cell_type": "code",
   "execution_count": null,
   "metadata": {},
   "outputs": [],
   "source": [
    "x1,x2,_ = interpolate(cell_true[:,0],cell_true[:,1],S[0,:],1e-6)"
   ]
  },
  {
   "cell_type": "code",
   "execution_count": null,
   "metadata": {},
   "outputs": [],
   "source": [
    "_,_,S1 = interpolate(cell_true[:,0],cell_true[:,1],S[5,:],1e-6)\n",
    "_,_,S2 = interpolate(cell_true[:,0],cell_true[:,1],S[20,:],1e-6)\n",
    "_,_,S3 = interpolate(cell_true[:,0],cell_true[:,1],S[39,:],1e-6)"
   ]
  },
  {
   "cell_type": "code",
   "execution_count": null,
   "metadata": {},
   "outputs": [],
   "source": [
    "fig,ax = plt.subplots(1,3,figsize = (15,10))\n",
    "cm = plt.cm.get_cmap('jet')\n",
    "scatter_plot = ax[0].scatter(x1, x2, c = S1, lw=0, s=0.5,cmap=cm,vmin = 0)\n",
    "ax[0].set_title('t = 7 s', fontsize = 14)\n",
    "ax[0].axis('off')\n",
    "plt.colorbar(scatter_plot, ax=ax[0], label = 'nmol $m^{-3}$')\n",
    "scatter_plot = ax[1].scatter(x1, x2, c = S2, lw=0, s=0.5,cmap=cm,vmin = 0)\n",
    "ax[1].set_title('t = 22 s', fontsize = 14)\n",
    "ax[1].axis('off')\n",
    "plt.colorbar(scatter_plot, ax=ax[1],label = 'nmol $m^{-3}$')\n",
    "scatter_plot = ax[2].scatter(x1, x2, c = S3, lw=0, s=0.5,cmap=cm,vmin = 0)\n",
    "ax[2].set_title('t = 41 s', fontsize = 14)\n",
    "ax[2].axis('off')\n",
    "plt.colorbar(scatter_plot, ax=ax[2],label = 'nmol $m^{-3}$')\n",
    "plt.savefig('AP.png',dpi=200,facecolor='w',transparent=True,bbox_inches='tight')"
   ]
  },
  {
   "cell_type": "code",
   "execution_count": null,
   "metadata": {},
   "outputs": [],
   "source": [
    "r,v,m = var_arr4 = variance_simulations(S,41,40,100)\n",
    "fig,ax = plt.subplots(1,3,figsize = (15,10))\n",
    "cm = plt.cm.get_cmap('RdYlBu_r')\n",
    "#ax = fig.gca(projection='3d')\n",
    "scatter_plot = ax[0].scatter(cell_true[:,0], cell_true[:,1], c = m, lw=0, s=20,cmap=cm)\n",
    "plt.colorbar(scatter_plot, ax=ax[0])\n",
    "scatter_plot = ax[1].scatter(cell_true[:,0], cell_true[:,1], c = v, lw=0, s=20,cmap=cm)\n",
    "plt.colorbar(scatter_plot, ax=ax[1])\n",
    "scatter_plot = ax[2].scatter(cell_true[:,0], cell_true[:,1], c = r, lw=0, s=1,cmap=cm)\n",
    "plt.colorbar(scatter_plot, ax=ax[2])"
   ]
  },
  {
   "cell_type": "code",
   "execution_count": null,
   "metadata": {},
   "outputs": [],
   "source": [
    "print(np.where(var_arr1>1))\n",
    "print(m[591])\n",
    "print(v[591])\n",
    "print(v[591]/m[591])"
   ]
  },
  {
   "cell_type": "code",
   "execution_count": null,
   "metadata": {},
   "outputs": [],
   "source": [
    "#control variance over simulations\n",
    "var_arr1 = variance_simulations(S,10,40,100)\n",
    "var_arr4 = variance_simulations(S,41,40,100)"
   ]
  },
  {
   "cell_type": "code",
   "execution_count": null,
   "metadata": {},
   "outputs": [],
   "source": [
    "#interpolate normalized variances\n",
    "x1,x2,norm_var1 = interpolate(cell_true[:,0],cell_true[:,1],var_arr1,1e-6)\n",
    "x1,x2,S1 = interpolate(cell_true[:,0],cell_true[:,1],S[8,:],1e-6)\n",
    "x1,x2,norm_var2 = interpolate(cell_true[:,0],cell_true[:,1],var_arr4,1e-6)\n",
    "x1,x2,S2 = interpolate(cell_true[:,0],cell_true[:,1],S[39,:],1e-6)"
   ]
  },
  {
   "cell_type": "code",
   "execution_count": null,
   "metadata": {},
   "outputs": [],
   "source": [
    "fig,ax = plt.subplots(figsize = (10,10))\n",
    "cm = plt.cm.get_cmap('RdYlBu_r')\n",
    "#ax = fig.gca(projection=‘3d’)\n",
    "scatter_plot = ax.scatter(cell_true[:,0], cell_true[:,1], c = var_arr1, lw=0, s=1,cmap=cm, vmax = 0.3)\n",
    "plt.colorbar(scatter_plot)"
   ]
  },
  {
   "cell_type": "code",
   "execution_count": null,
   "metadata": {
    "scrolled": true
   },
   "outputs": [],
   "source": [
    "fig,ax = plt.subplots(2,2,figsize = (15,10))\n",
    "cm = plt.cm.get_cmap('jet')\n",
    "#ax = fig.gca(projection=‘3d’)\n",
    "scatter_plot = ax[0][0].scatter(x1, x2, c = norm_var1, lw=0, s=0.5,cmap=cm,vmin = 0)\n",
    "ax[0][0].set_title('Normalized Standard Deviation, t = 12 s', fontsize = 14)\n",
    "ax[0][0].axis('off')\n",
    "plt.colorbar(scatter_plot, ax=ax[0][0])\n",
    "scatter_plot = ax[0][1].scatter(x1, x2, c = S1, lw=0, s=0.5,cmap=cm,vmin = 0)\n",
    "ax[0][1].set_title('Snapshot, t = 12 s', fontsize = 14)\n",
    "ax[0][1].axis('off')\n",
    "plt.colorbar(scatter_plot, ax=ax[0][1], label = 'nmol $m^{-3}$')\n",
    "scatter_plot = ax[1][0].scatter(x1, x2, c = norm_var2, lw=0, s=0.5,cmap=cm,vmin = 0)\n",
    "ax[1][0].set_title('Normalized Standard Deviation, t = 41 s', fontsize = 14)\n",
    "ax[1][0].axis('off')\n",
    "plt.colorbar(scatter_plot, ax=ax[1][0])\n",
    "scatter_plot = ax[1][1].scatter(x1, x2, c = S2, lw=0, s=0.5,cmap=cm,vmin = 0)\n",
    "ax[1][1].set_title('Snapshot, t = 41 s', fontsize = 14)\n",
    "ax[1][1].axis('off')\n",
    "plt.colorbar(scatter_plot, ax=ax[1][1], label = 'nmol $m^{-3}$')\n",
    "plt.savefig('vWFs_std_normalized.png',dpi=200,facecolor='w',transparent=True,bbox_inches='tight')"
   ]
  },
  {
   "cell_type": "code",
   "execution_count": null,
   "metadata": {},
   "outputs": [],
   "source": [
    "x1,x2,m1 = interpolate(cell_true[:,0],cell_true[:,1],S[37,:],1e-6)\n",
    "fig,ax = plt.subplots(1,1,figsize = (5,7))\n",
    "cm = plt.cm.get_cmap('jet')\n",
    "scatter_plot = ax.scatter(x1, x2, c = m1, lw=0, s=0.5,cmap=cm)\n",
    "plt.colorbar(scatter_plot, label = 'nmol $m^{-3}$')\n",
    "ax.axis('off')\n",
    "ax.set_title('vWFs concentration',fontsize = 14)\n",
    "plt.savefig('FOM.png',dpi=200,facecolor='w',transparent=True,bbox_inches='tight')"
   ]
  },
  {
   "cell_type": "code",
   "execution_count": null,
   "metadata": {},
   "outputs": [],
   "source": [
    "X = Input\n",
    "fcm = FCM(n_clusters=2)\n",
    "fcm.fit(X)"
   ]
  },
  {
   "cell_type": "code",
   "execution_count": null,
   "metadata": {},
   "outputs": [],
   "source": [
    "# outputs\n",
    "fcm_centers = fcm.centers\n",
    "fcm_labels = fcm.predict(X)\n",
    "\n",
    "# plot result\n",
    "f, axes = plt.subplots(1, 2, figsize=(11,5))\n",
    "axes[0].scatter(X[:,0], X[:,1], alpha=.5)\n",
    "axes[1].scatter(X[:,0], X[:,1], c=fcm_labels, alpha=.5)\n",
    "axes[1].scatter(fcm_centers[:,0], fcm_centers[:,1], marker=\"+\", s=500, c='b')\n",
    "plt.savefig('cluster.png',dpi=200,facecolor='w',transparent=True)\n",
    "plt.show()"
   ]
  },
  {
   "cell_type": "code",
   "execution_count": null,
   "metadata": {},
   "outputs": [],
   "source": [
    "plt.plot(fcm_labels[0:120],'o')\n"
   ]
  },
  {
   "cell_type": "code",
   "execution_count": null,
   "metadata": {},
   "outputs": [],
   "source": [
    "fig,ax = plt.subplots(2,2,figsize = (10,10))\n",
    "cm = plt.cm.get_cmap('RdYlBu_r')\n",
    "#ax = fig.gca(projection=‘3d’)\n",
    "scatter_plot = ax[0][0].scatter(cell_true[:,0], cell_true[:,1], c = S[0,:], lw=0, s=0.5,cmap=cm,vmin = 0)\n",
    "ax[0][0].set_title('t = 13 s', fontsize = 14)\n",
    "ax[0][0].axis('off')\n",
    "plt.colorbar(scatter_plot, ax=ax[0][0])\n",
    "scatter_plot = ax[0][1].scatter(cell_true[:,0], cell_true[:,1], c = S[1,:], lw=0, s=0.5,cmap=cm,vmin = 0)\n",
    "ax[0][1].set_title('t = 14 s', fontsize = 14)\n",
    "ax[0][1].axis('off')\n",
    "plt.colorbar(scatter_plot,ax=ax[0][1])\n",
    "scatter_plot = ax[1][0].scatter(cell_true[:,0], cell_true[:,1], c = S[2,:], lw=0, s=0.5,cmap=cm,vmin = 0)\n",
    "ax[1][0].set_title('t = 15 s', fontsize = 14)\n",
    "ax[1][0].axis('off')\n",
    "plt.colorbar(scatter_plot, ax=ax[1][0])\n",
    "scatter_plot = ax[1][1].scatter(cell_true[:,0], cell_true[:,1], c = S[3,:], lw=0, s=0.5,cmap=cm,vmin = 0)\n",
    "ax[1][1].set_title('t = 16 s', fontsize = 14)\n",
    "ax[1][1].axis('off')\n",
    "plt.colorbar(scatter_plot,ax=ax[1][1])\n",
    "plt.savefig('fig',dpi=150,facecolor='w',transparent=True,bbox_inches='tight')"
   ]
  }
 ],
 "metadata": {
  "kernelspec": {
   "display_name": "Python 3",
   "language": "python",
   "name": "python3"
  },
  "language_info": {
   "codemirror_mode": {
    "name": "ipython",
    "version": 3
   },
   "file_extension": ".py",
   "mimetype": "text/x-python",
   "name": "python",
   "nbconvert_exporter": "python",
   "pygments_lexer": "ipython3",
   "version": "3.9.12"
  }
 },
 "nbformat": 4,
 "nbformat_minor": 4
}
