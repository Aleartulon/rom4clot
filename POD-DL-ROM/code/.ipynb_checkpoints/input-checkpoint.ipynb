{
 "cells": [
  {
   "cell_type": "markdown",
   "metadata": {},
   "source": [
    "# Creates Input images of the Encoder\n",
    "This script is not really necessary, it just makes you see the inputs of the encoder"
   ]
  },
  {
   "cell_type": "code",
   "execution_count": null,
   "metadata": {},
   "outputs": [],
   "source": [
    "import numpy as np\n",
    "import matplotlib.pyplot as plt\n",
    "import tensorflow as tf"
   ]
  },
  {
   "cell_type": "code",
   "execution_count": null,
   "metadata": {
    "scrolled": true
   },
   "outputs": [],
   "source": [
    "n_neurons = 100\n",
    "n_params = 6 #counting time as a parameter\n",
    "n_layers_dfnn = 4\n",
    "N = 64\n",
    "time = 'full'\n",
    "n_train = int((4000)*0.8)\n",
    "n_data = 3800\n",
    "\n",
    "dir = 'DMP_10000_kernel_7_100neur'\n",
    "specie = 'vWFs'\n",
    "basic_data = '/people/longhi/Bureau/Internship/POD-clot/'\n",
    "home = '/people/longhi/Bureau/Internship/POD-clot/MODELS/'+specie+'/'+time+'/'+str(N)\n",
    "path = home+'/'+dir\n",
    "S = np.loadtxt(open(home+'/Data/'+\"Input_timesep.csv\", \"rb\"), delimiter=',')\n",
    "\n",
    "fig = tf.reshape(S[39,:],[-1,int(np.sqrt(N)),int(np.sqrt(N)),1])[0].numpy()"
   ]
  },
  {
   "cell_type": "code",
   "execution_count": null,
   "metadata": {},
   "outputs": [],
   "source": [
    "fig,ax = plt.subplots(10,4,figsize = (20,40))\n",
    "for i in range(10):\n",
    "    count = (4*i)+0\n",
    "    scatter_plot = ax[i][0].imshow(tf.reshape(S[count,:],[-1,int(np.sqrt(N)),int(np.sqrt(N)),1])[0].numpy(),interpolation='nearest', aspect='auto')\n",
    "    ax[i][0].set_title('t = '+ str(count+2))\n",
    "    plt.colorbar(scatter_plot, ax=ax[i,0])\n",
    "    scatter_plot = ax[i][1].imshow(tf.reshape(S[count+1,:],[-1,int(np.sqrt(N)),int(np.sqrt(N)),1])[0].numpy(),interpolation='nearest', aspect='auto')\n",
    "    ax[i][1].set_title('t = '+ str(count+2+1))\n",
    "    plt.colorbar(scatter_plot, ax=ax[i,1])\n",
    "    scatter_plot = ax[i][2].imshow(tf.reshape(S[count+2,:],[-1,int(np.sqrt(N)),int(np.sqrt(N)),1])[0].numpy(),interpolation='nearest', aspect='auto')\n",
    "    ax[i][2].set_title('t = '+ str(count+2+2))\n",
    "    plt.colorbar(scatter_plot, ax=ax[i,2])\n",
    "    scatter_plot = ax[i][3].imshow(tf.reshape(S[count+3,:],[-1,int(np.sqrt(N)),int(np.sqrt(N)),1])[0].numpy(),interpolation='nearest', aspect='auto')\n",
    "    ax[i][3].set_title('t = '+ str(count+2+3))\n",
    "    plt.colorbar(scatter_plot, ax=ax[i,3])\n",
    "\n",
    "plt.savefig('input_timesep_2_4.png',dpi = 200,facecolor='w',transparent=True)"
   ]
  },
  {
   "cell_type": "code",
   "execution_count": null,
   "metadata": {},
   "outputs": [],
   "source": [
    "print(S[0,:])"
   ]
  }
 ],
 "metadata": {
  "kernelspec": {
   "display_name": "Python 3",
   "language": "python",
   "name": "python3"
  },
  "language_info": {
   "codemirror_mode": {
    "name": "ipython",
    "version": 3
   },
   "file_extension": ".py",
   "mimetype": "text/x-python",
   "name": "python",
   "nbconvert_exporter": "python",
   "pygments_lexer": "ipython3",
   "version": "3.9.12"
  }
 },
 "nbformat": 4,
 "nbformat_minor": 4
}
